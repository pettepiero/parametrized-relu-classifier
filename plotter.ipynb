{
 "cells": [
  {
   "cell_type": "code",
   "execution_count": 11,
   "metadata": {
    "ExecuteTime": {
     "end_time": "2023-12-27T18:03:24.144166421Z",
     "start_time": "2023-12-27T18:03:24.113541703Z"
    }
   },
   "outputs": [],
   "source": [
    "## Import Libraries\n",
    "import numpy as np\n",
    "import pandas as pd\n",
    "import copy\n",
    "import glob\n",
    "\n",
    "from tqdm.auto import trange\n",
    "\n",
    "import torch as th\n",
    "import torch.nn as nn\n",
    "import torch.nn.functional as F\n",
    "import torchvision\n",
    "from torch import Tensor\n",
    "from torch.utils.data import DataLoader, SubsetRandomSampler, TensorDataset\n",
    "import torch.optim as optim\n",
    "\n",
    "from torchvision import datasets, transforms\n",
    "\n",
    "\n",
    "import matplotlib.pyplot as plt\n",
    "\n",
    "# from mpl_toolkits import mplot3d\n",
    "from matplotlib.colors import ListedColormap\n",
    "\n",
    "import seaborn as sns\n",
    "\n",
    "from sklearn.decomposition import PCA, KernelPCA\n",
    "\n",
    "from sklearn.metrics import adjusted_rand_score, accuracy_score, davies_bouldin_score\n",
    "from sklearn.model_selection import train_test_split, RandomizedSearchCV\n",
    "\n",
    "from sklearn.cluster import KMeans, SpectralClustering\n",
    "from sklearn.mixture import GaussianMixture\n",
    "from sklearn.svm import SVC\n",
    "\n",
    "# Used to save data into files\n",
    "import pickle as pkl\n",
    "import os\n",
    "\n",
    "# Used to measure time\n",
    "import time"
   ]
  },
  {
   "cell_type": "code",
   "execution_count": 12,
   "metadata": {
    "ExecuteTime": {
     "start_time": "2023-12-27T18:03:24.142724016Z"
    }
   },
   "outputs": [],
   "source": [
    "custom_colors = [\n",
    "    \"#a6cee3\",\n",
    "    \"#1f78b4\",\n",
    "    \"#b2df8a\",\n",
    "    \"#33a02c\",\n",
    "    \"#fb9a99\",\n",
    "    \"#e31a1c\",\n",
    "    \"#fdbf6f\",\n",
    "    \"#ff7f00\",\n",
    "    \"#cab2d6\",\n",
    "    \"#6a3d9a\",\n",
    "]\n",
    "sns.set_palette(custom_colors)\n",
    "\n",
    "ATOL = 0.05"
   ]
  },
  {
   "cell_type": "code",
   "execution_count": 13,
   "metadata": {
    "ExecuteTime": {
     "end_time": "2023-12-27T18:03:24.191300941Z",
     "start_time": "2023-12-27T18:03:24.145825225Z"
    }
   },
   "outputs": [
    {
     "name": "stdout",
     "output_type": "stream",
     "text": [
      "['./results/alphas_df_it_4.csv', './results/alphas_df_it_{iteration}.csv', './results/alphas_df_it_1.csv', './results/alphas_df_it_3.csv', './results/alphas_df_it_0.csv', './results/alphas_df_it_2.csv']\n"
     ]
    }
   ],
   "source": [
    "folder_path = \"./results/\"  # Replace with the actual path to your folder\n",
    "file_pattern = \"alphas_df*.csv\"\n",
    "\n",
    "# Use glob to match files based on the pattern\n",
    "data_files = glob.glob(f\"{folder_path}/{file_pattern}\")\n",
    "print(data_files)"
   ]
  },
  {
   "cell_type": "code",
   "execution_count": 14,
   "metadata": {
    "ExecuteTime": {
     "start_time": "2023-12-27T18:03:24.165432768Z"
    }
   },
   "outputs": [],
   "source": [
    "def plot_alphas(ax, batch_alpha_0, batch_alpha_1, batch_alpha_2):\n",
    "    xrange = range(len(batch_alpha_0))\n",
    "    ax.plot(xrange, batch_alpha_0, label=\"Alpha 0\")\n",
    "    ax.plot(xrange, batch_alpha_1, label=\"Alpha 1\")\n",
    "    ax.plot(xrange, batch_alpha_2, label=\"Alpha 2\")\n",
    "    # ax.set_xlabel(\"Number of seen batches\")\n",
    "    # ax.set_ylabel(\"Alpha\", rotation=0, labelpad=20)\n",
    "    ax.legend(loc=\"upper right\")\n",
    "    ax.set_ylim(0, 1)\n",
    "    # ax.set_title(\n",
    "    #     f\"Alpha0: {round(batch_alpha_0[0].item(), 2)}, Alpha1: {round(batch_alpha_0[1].item(), 2)}, Alpha2: {round(batch_alpha_0[2].item(), 2)}\",\n",
    "    #     fontweight=\"bold\",\n",
    "    # )\n",
    "    return ax"
   ]
  },
  {
   "cell_type": "code",
   "execution_count": 15,
   "metadata": {
    "ExecuteTime": {
     "end_time": "2023-12-27T18:03:24.195361708Z",
     "start_time": "2023-12-27T18:03:24.191707959Z"
    }
   },
   "outputs": [
    {
     "name": "stdout",
     "output_type": "stream",
     "text": [
      "46900\n"
     ]
    }
   ],
   "source": [
    "df = pd.read_csv(data_files[0])\n",
    "\n",
    "condition = (df[\"lambda\"] == 0.015) & (df[\"iteration\"] == 3)\n",
    "print(len(df.loc[condition, \"alpha0\"]))"
   ]
  },
  {
   "cell_type": "code",
   "execution_count": 16,
   "metadata": {
    "ExecuteTime": {
     "end_time": "2023-12-27T18:03:24.276738437Z",
     "start_time": "2023-12-27T18:03:24.218633441Z"
    }
   },
   "outputs": [
    {
     "name": "stderr",
     "output_type": "stream",
     "text": [
      "/tmp/ipykernel_41351/196667087.py:7: RuntimeWarning: More than 20 figures have been opened. Figures created through the pyplot interface (`matplotlib.pyplot.figure`) are retained until explicitly closed and may consume too much memory. (To control this warning, see the rcParam `figure.max_open_warning`). Consider using `matplotlib.pyplot.close()`.\n",
      "  fig, ax = plt.subplots(2, 3, figsize=(15, 10), dpi=200)\n"
     ]
    }
   ],
   "source": [
    "data_files = [\"./results/alphas_df_0.csv\"]\n",
    "\n",
    "lambda_range = np.arange(start=0, stop=0.051, step=0.005)\n",
    "\n",
    "for f_counter, file in enumerate(data_files):\n",
    "    for counter, lam in enumerate(lambda_range):\n",
    "        df = pd.read_csv(file)\n",
    "\n",
    "        fig, ax = plt.subplots(2, 3, figsize=(15, 10), dpi=200)\n",
    "        ax = ax.flatten()\n",
    "        for i in range(6):\n",
    "            condition = (df[\"lambda\"] == lam) & (df[\"iteration\"] == i)\n",
    "            ax[i] = plot_alphas(\n",
    "                ax[i],\n",
    "                df.loc[condition, \"alpha0\"],\n",
    "                df.loc[condition, \"alpha1\"],\n",
    "                df.loc[condition, \"alpha2\"],\n",
    "            )\n",
    "            ax[i].legend(loc=\"upper center\")\n",
    "        ax[0].set_xlabel(\"Number of seen batches\", fontweight=\"bold\")\n",
    "        ax[0].set_ylabel(\"Alpha\", rotation=0, labelpad=20, fontweight=\"bold\")\n",
    "        fig.suptitle(\n",
    "            f\"Alpha values for lambda = {round(lam, 3)}\", size=20, fontweight=\"bold\"\n",
    "        )\n",
    "        fig.subplots_adjust(top=0.90)\n",
    "        # plt.legend(loc='upper center')\n",
    "        plt.savefig(f\"./alphas_plots/alphas_{f_counter}_{counter}.png\")"
   ]
  },
  {
   "cell_type": "code",
   "execution_count": 17,
   "metadata": {
    "ExecuteTime": {
     "start_time": "2023-12-27T18:03:24.261745803Z"
    }
   },
   "outputs": [
    {
     "name": "stdout",
     "output_type": "stream",
     "text": [
      "Number of data files: 6\n"
     ]
    }
   ],
   "source": [
    "# Showing the available data files with name alphas_df*.csv\n",
    "print(f\"Number of data files: {len(data_files)}\")"
   ]
  },
  {
   "cell_type": "code",
   "execution_count": 18,
   "metadata": {
    "ExecuteTime": {
     "start_time": "2023-12-27T18:03:24.262399261Z"
    }
   },
   "outputs": [
    {
     "name": "stdout",
     "output_type": "stream",
     "text": [
      "0 ./results/alphas_df_it_4.csv\n",
      "1 ./results/alphas_df_it_{iteration}.csv\n",
      "2 ./results/alphas_df_it_1.csv\n",
      "3 ./results/alphas_df_it_3.csv\n",
      "4 ./results/alphas_df_it_0.csv\n",
      "5 ./results/alphas_df_it_2.csv\n"
     ]
    }
   ],
   "source": [
    "for i, file in enumerate(data_files):\n",
    "    print(i, file)"
   ]
  },
  {
   "cell_type": "code",
   "execution_count": 19,
   "metadata": {
    "ExecuteTime": {
     "start_time": "2023-12-27T18:03:24.262575273Z"
    }
   },
   "outputs": [
    {
     "name": "stderr",
     "output_type": "stream",
     "text": [
      "/tmp/ipykernel_41351/725415162.py:36: FutureWarning: The behavior of DataFrame concatenation with empty or all-NA entries is deprecated. In a future version, this will no longer exclude empty or all-NA columns when determining the result dtypes. To retain the old behavior, exclude the relevant entries before the concat operation.\n",
      "  df_for_file = pd.concat([df_for_file, df_for_lambda], ignore_index=True)\n",
      "/tmp/ipykernel_41351/725415162.py:36: FutureWarning: The behavior of DataFrame concatenation with empty or all-NA entries is deprecated. In a future version, this will no longer exclude empty or all-NA columns when determining the result dtypes. To retain the old behavior, exclude the relevant entries before the concat operation.\n",
      "  df_for_file = pd.concat([df_for_file, df_for_lambda], ignore_index=True)\n",
      "/tmp/ipykernel_41351/725415162.py:36: FutureWarning: The behavior of DataFrame concatenation with empty or all-NA entries is deprecated. In a future version, this will no longer exclude empty or all-NA columns when determining the result dtypes. To retain the old behavior, exclude the relevant entries before the concat operation.\n",
      "  df_for_file = pd.concat([df_for_file, df_for_lambda], ignore_index=True)\n",
      "/tmp/ipykernel_41351/725415162.py:36: FutureWarning: The behavior of DataFrame concatenation with empty or all-NA entries is deprecated. In a future version, this will no longer exclude empty or all-NA columns when determining the result dtypes. To retain the old behavior, exclude the relevant entries before the concat operation.\n",
      "  df_for_file = pd.concat([df_for_file, df_for_lambda], ignore_index=True)\n",
      "/tmp/ipykernel_41351/725415162.py:36: FutureWarning: The behavior of DataFrame concatenation with empty or all-NA entries is deprecated. In a future version, this will no longer exclude empty or all-NA columns when determining the result dtypes. To retain the old behavior, exclude the relevant entries before the concat operation.\n",
      "  df_for_file = pd.concat([df_for_file, df_for_lambda], ignore_index=True)\n",
      "/tmp/ipykernel_41351/725415162.py:36: FutureWarning: The behavior of DataFrame concatenation with empty or all-NA entries is deprecated. In a future version, this will no longer exclude empty or all-NA columns when determining the result dtypes. To retain the old behavior, exclude the relevant entries before the concat operation.\n",
      "  df_for_file = pd.concat([df_for_file, df_for_lambda], ignore_index=True)\n"
     ]
    }
   ],
   "source": [
    "# Initialize an empty list to store DataFrames\n",
    "dfs_to_concat = []\n",
    "\n",
    "for i, file in enumerate(data_files):\n",
    "    # Read the CSV file into a DataFrame\n",
    "    df = pd.read_csv(file)\n",
    "\n",
    "    # Extract unique lambda values\n",
    "    lambda_range = df[\"lambda\"].unique()\n",
    "\n",
    "    # Initialize an empty DataFrame for this file\n",
    "    df_for_file = pd.DataFrame(\n",
    "        columns=[\"df\", \"lambda\", \"alpha0\", \"alpha1\", \"alpha2\", \"total\"]\n",
    "    )\n",
    "\n",
    "    # Iterate over unique lambda values\n",
    "    for Lambda in lambda_range:\n",
    "        df_lambda = df[df[\"lambda\"] == Lambda].groupby(\"iteration\").tail(1)\n",
    "\n",
    "        # Calculate percentage of alphas that go to zero\n",
    "        percentages_lambda = {}\n",
    "        for col in [\"alpha0\", \"alpha1\", \"alpha2\"]:\n",
    "            percentage_zero = np.isclose(df_lambda[col], 0, atol=ATOL).mean() * 100\n",
    "            percentages_lambda[col] = percentage_zero\n",
    "\n",
    "        # Add a row for this lambda to the DataFrame\n",
    "        df_for_lambda = pd.DataFrame(\n",
    "            {\n",
    "                \"df\": [i],\n",
    "                \"lambda\": [Lambda],\n",
    "                \"alpha0\": [percentages_lambda.get(\"alpha0\", np.nan)],\n",
    "                \"alpha1\": [percentages_lambda.get(\"alpha1\", np.nan)],\n",
    "                \"alpha2\": [percentages_lambda.get(\"alpha2\", np.nan)],\n",
    "            }\n",
    "        )\n",
    "        df_for_file = pd.concat([df_for_file, df_for_lambda], ignore_index=True)\n",
    "\n",
    "    # Calculate the total percentage for this file\n",
    "    alphacols = [\"alpha0\", \"alpha1\", \"alpha2\"]\n",
    "    df_for_file[\"total\"] = df_for_file[alphacols].mean(axis=1)\n",
    "\n",
    "    # Add the DataFrame for this file to the list\n",
    "    dfs_to_concat.append(df_for_file)\n",
    "\n",
    "# Concatenate all DataFrames into the final result\n",
    "percentages_df = pd.concat(dfs_to_concat, ignore_index=True)"
   ]
  },
  {
   "cell_type": "code",
   "execution_count": 20,
   "metadata": {
    "ExecuteTime": {
     "start_time": "2023-12-27T18:03:24.262674078Z"
    }
   },
   "outputs": [
    {
     "name": "stdout",
     "output_type": "stream",
     "text": [
      "   df  lambda      alpha0      alpha1      alpha2       total\n",
      "11  1   0.000   33.333333   33.333333   16.666667   27.777778\n",
      "12  1   0.005   16.666667   50.000000   33.333333   33.333333\n",
      "13  1   0.010   50.000000   33.333333   33.333333   38.888889\n",
      "14  1   0.015   50.000000   66.666667   83.333333   66.666667\n",
      "15  1   0.020  100.000000   66.666667   66.666667   77.777778\n",
      "16  1   0.025   33.333333   50.000000   50.000000   44.444444\n",
      "17  1   0.030  100.000000  100.000000  100.000000  100.000000\n",
      "18  1   0.035  100.000000  100.000000   50.000000   83.333333\n",
      "19  1   0.040  100.000000  100.000000  100.000000  100.000000\n",
      "20  1   0.045  100.000000  100.000000  100.000000  100.000000\n",
      "21  1   0.050  100.000000  100.000000  100.000000  100.000000\n"
     ]
    }
   ],
   "source": [
    "print(percentages_df.loc[percentages_df[\"df\"] == 1])"
   ]
  },
  {
   "cell_type": "code",
   "execution_count": 21,
   "metadata": {
    "ExecuteTime": {
     "end_time": "2023-12-27T18:03:24.289529572Z",
     "start_time": "2023-12-27T18:03:24.277052115Z"
    }
   },
   "outputs": [
    {
     "data": {
      "text/plain": [
       "array([0, 1, 2, 3, 4, 5], dtype=object)"
      ]
     },
     "execution_count": 21,
     "metadata": {},
     "output_type": "execute_result"
    }
   ],
   "source": [
    "percentages_df[\"df\"].unique()"
   ]
  },
  {
   "cell_type": "code",
   "execution_count": 22,
   "metadata": {
    "ExecuteTime": {
     "start_time": "2023-12-27T18:03:24.288863944Z"
    }
   },
   "outputs": [],
   "source": [
    "fig, ax = plt.subplots(figsize=(10, 5), dpi=200)\n",
    "for df in percentages_df[\"df\"].unique():\n",
    "    ax.plot(\n",
    "        percentages_df[percentages_df[\"df\"] == df][\"lambda\"],\n",
    "        percentages_df[percentages_df[\"df\"] == df][\"total\"],\n",
    "        marker=\"o\",\n",
    "        label=df,\n",
    "    )\n",
    "ax.set_xlabel(r\"$\\lambda$\", fontweight=\"bold\", fontsize=14)\n",
    "ax.set_ylabel(\n",
    "    r'% of $\\alpha$' + '\\nthat go to zero',\n",
    "    rotation=0,\n",
    "    labelpad=70,\n",
    "    fontweight=\"bold\",\n",
    "    fontsize=14,\n",
    ")\n",
    "# ax.set_title(\n",
    "#     \"Percentage of alphas that go to zero for different lambda values\",\n",
    "#     fontweight=\"bold\",\n",
    "#     size=20,\n",
    "# )\n",
    "ax.set_yticks(np.arange(0, 101, 20))\n",
    "ax.legend(title=\"Data file\")\n",
    "ax.grid(True, axis=\"y\")\n",
    "plt.savefig(\"./plots/alphas_total.png\")"
   ]
  },
  {
   "cell_type": "markdown",
   "metadata": {},
   "source": [
    "Dati molto sospetti zio pera... raccogline altri e vedi che succede. Se il pattern persiste cercare di capirne la causa\n",
    "\n",
    "idea: non c'era lo shuffling del dataset"
   ]
  },
  {
   "cell_type": "markdown",
   "metadata": {},
   "source": [
    "## Distribution of converged values"
   ]
  },
  {
   "cell_type": "code",
   "execution_count": 23,
   "metadata": {
    "ExecuteTime": {
     "end_time": "2023-12-27T18:03:24.332453821Z",
     "start_time": "2023-12-27T18:03:24.329295643Z"
    }
   },
   "outputs": [
    {
     "name": "stderr",
     "output_type": "stream",
     "text": [
      "/tmp/ipykernel_41351/1649795383.py:9: FutureWarning: The behavior of DataFrame concatenation with empty or all-NA entries is deprecated. In a future version, this will no longer exclude empty or all-NA columns when determining the result dtypes. To retain the old behavior, exclude the relevant entries before the concat operation.\n",
      "  final_values = pd.concat(\n",
      "/tmp/ipykernel_41351/1649795383.py:9: FutureWarning: The behavior of DataFrame concatenation with empty or all-NA entries is deprecated. In a future version, this will no longer exclude empty or all-NA columns when determining the result dtypes. To retain the old behavior, exclude the relevant entries before the concat operation.\n",
      "  final_values = pd.concat(\n",
      "/tmp/ipykernel_41351/1649795383.py:9: FutureWarning: The behavior of DataFrame concatenation with empty or all-NA entries is deprecated. In a future version, this will no longer exclude empty or all-NA columns when determining the result dtypes. To retain the old behavior, exclude the relevant entries before the concat operation.\n",
      "  final_values = pd.concat(\n",
      "/tmp/ipykernel_41351/1649795383.py:9: FutureWarning: The behavior of DataFrame concatenation with empty or all-NA entries is deprecated. In a future version, this will no longer exclude empty or all-NA columns when determining the result dtypes. To retain the old behavior, exclude the relevant entries before the concat operation.\n",
      "  final_values = pd.concat(\n",
      "/tmp/ipykernel_41351/1649795383.py:9: FutureWarning: The behavior of DataFrame concatenation with empty or all-NA entries is deprecated. In a future version, this will no longer exclude empty or all-NA columns when determining the result dtypes. To retain the old behavior, exclude the relevant entries before the concat operation.\n",
      "  final_values = pd.concat(\n"
     ]
    },
    {
     "name": "stdout",
     "output_type": "stream",
     "text": [
      "    lambda  alpha0  alpha1  alpha2\n",
      "0     0.00  0.9977  0.0106  0.0233\n",
      "1     0.00  0.9929  0.0000  0.0006\n",
      "2     0.00  0.4587  0.0014  0.0005\n",
      "3     0.00  0.9919  0.0439  0.0030\n",
      "4     0.00  0.0000  0.9921  0.0002\n",
      "..     ...     ...     ...     ...\n",
      "61    0.05  0.0000  0.0000  0.0000\n",
      "62    0.05  0.0012  0.0003  0.0014\n",
      "63    0.05  0.0016  0.0000  0.0000\n",
      "64    0.05  0.0004  0.0000  0.0005\n",
      "65    0.05  0.0003  0.0000  0.0005\n",
      "\n",
      "[66 rows x 4 columns]\n"
     ]
    },
    {
     "name": "stderr",
     "output_type": "stream",
     "text": [
      "/tmp/ipykernel_41351/1649795383.py:9: FutureWarning: The behavior of DataFrame concatenation with empty or all-NA entries is deprecated. In a future version, this will no longer exclude empty or all-NA columns when determining the result dtypes. To retain the old behavior, exclude the relevant entries before the concat operation.\n",
      "  final_values = pd.concat(\n"
     ]
    }
   ],
   "source": [
    "# Getting all the converged values\n",
    "for file in data_files:\n",
    "    final_values = pd.DataFrame(columns=[\"lambda\", \"alpha0\", \"alpha1\", \"alpha2\"])\n",
    "    df = pd.read_csv(file)\n",
    "    lambda_range = df[\"lambda\"].unique()\n",
    "\n",
    "    for Lambda in lambda_range:\n",
    "        df_lambda = df[df[\"lambda\"] == Lambda].groupby(\"iteration\").tail(1)\n",
    "        final_values = pd.concat(\n",
    "            [final_values, df_lambda[[\"lambda\", \"alpha0\", \"alpha1\", \"alpha2\"]]],\n",
    "            ignore_index=True,\n",
    "        )\n",
    "\n",
    "print(final_values)"
   ]
  },
  {
   "cell_type": "code",
   "execution_count": 24,
   "metadata": {
    "ExecuteTime": {
     "end_time": "2023-12-27T18:03:24.345415697Z",
     "start_time": "2023-12-27T18:03:24.341628233Z"
    }
   },
   "outputs": [
    {
     "name": "stdout",
     "output_type": "stream",
     "text": [
      "     lambda variable   value\n",
      "0      0.00   alpha0  0.9977\n",
      "1      0.00   alpha0  0.9929\n",
      "2      0.00   alpha0  0.4587\n",
      "3      0.00   alpha0  0.9919\n",
      "4      0.00   alpha0  0.0000\n",
      "..      ...      ...     ...\n",
      "193    0.05   alpha2  0.0000\n",
      "194    0.05   alpha2  0.0014\n",
      "195    0.05   alpha2  0.0000\n",
      "196    0.05   alpha2  0.0005\n",
      "197    0.05   alpha2  0.0005\n",
      "\n",
      "[198 rows x 3 columns]\n"
     ]
    }
   ],
   "source": [
    "# Melt the DataFrame to have a single column for values and another for variable names\n",
    "melted_values = final_values.melt(var_name=\"variable\", value_name=\"value\", id_vars=\"lambda\")\n",
    "print(melted_values)"
   ]
  },
  {
   "cell_type": "code",
   "execution_count": 25,
   "metadata": {
    "ExecuteTime": {
     "start_time": "2023-12-27T18:03:24.386540822Z"
    }
   },
   "outputs": [
    {
     "name": "stderr",
     "output_type": "stream",
     "text": [
      "/home/pettepiero/local/envs/atml/lib/python3.11/site-packages/seaborn/_oldcore.py:1498: FutureWarning: is_categorical_dtype is deprecated and will be removed in a future version. Use isinstance(dtype, CategoricalDtype) instead\n",
      "  if pd.api.types.is_categorical_dtype(vector):\n",
      "/home/pettepiero/local/envs/atml/lib/python3.11/site-packages/seaborn/_oldcore.py:1498: FutureWarning: is_categorical_dtype is deprecated and will be removed in a future version. Use isinstance(dtype, CategoricalDtype) instead\n",
      "  if pd.api.types.is_categorical_dtype(vector):\n",
      "/home/pettepiero/local/envs/atml/lib/python3.11/site-packages/seaborn/_oldcore.py:1498: FutureWarning: is_categorical_dtype is deprecated and will be removed in a future version. Use isinstance(dtype, CategoricalDtype) instead\n",
      "  if pd.api.types.is_categorical_dtype(vector):\n",
      "/home/pettepiero/local/envs/atml/lib/python3.11/site-packages/seaborn/axisgrid.py:712: UserWarning: Using the stripplot function without specifying `order` is likely to produce an incorrect plot.\n",
      "  warnings.warn(warning)\n",
      "/home/pettepiero/local/envs/atml/lib/python3.11/site-packages/seaborn/_oldcore.py:1498: FutureWarning: is_categorical_dtype is deprecated and will be removed in a future version. Use isinstance(dtype, CategoricalDtype) instead\n",
      "  if pd.api.types.is_categorical_dtype(vector):\n",
      "/home/pettepiero/local/envs/atml/lib/python3.11/site-packages/seaborn/_oldcore.py:1498: FutureWarning: is_categorical_dtype is deprecated and will be removed in a future version. Use isinstance(dtype, CategoricalDtype) instead\n",
      "  if pd.api.types.is_categorical_dtype(vector):\n",
      "/home/pettepiero/local/envs/atml/lib/python3.11/site-packages/seaborn/_oldcore.py:1498: FutureWarning: is_categorical_dtype is deprecated and will be removed in a future version. Use isinstance(dtype, CategoricalDtype) instead\n",
      "  if pd.api.types.is_categorical_dtype(vector):\n",
      "/home/pettepiero/local/envs/atml/lib/python3.11/site-packages/seaborn/_oldcore.py:1498: FutureWarning: is_categorical_dtype is deprecated and will be removed in a future version. Use isinstance(dtype, CategoricalDtype) instead\n",
      "  if pd.api.types.is_categorical_dtype(vector):\n",
      "/home/pettepiero/local/envs/atml/lib/python3.11/site-packages/seaborn/_oldcore.py:1498: FutureWarning: is_categorical_dtype is deprecated and will be removed in a future version. Use isinstance(dtype, CategoricalDtype) instead\n",
      "  if pd.api.types.is_categorical_dtype(vector):\n",
      "/home/pettepiero/local/envs/atml/lib/python3.11/site-packages/seaborn/_oldcore.py:1119: FutureWarning: use_inf_as_na option is deprecated and will be removed in a future version. Convert inf values to NaN before operating instead.\n",
      "  with pd.option_context('mode.use_inf_as_na', True):\n",
      "/home/pettepiero/local/envs/atml/lib/python3.11/site-packages/seaborn/_oldcore.py:1119: FutureWarning: use_inf_as_na option is deprecated and will be removed in a future version. Convert inf values to NaN before operating instead.\n",
      "  with pd.option_context('mode.use_inf_as_na', True):\n",
      "/home/pettepiero/local/envs/atml/lib/python3.11/site-packages/seaborn/_oldcore.py:1498: FutureWarning: is_categorical_dtype is deprecated and will be removed in a future version. Use isinstance(dtype, CategoricalDtype) instead\n",
      "  if pd.api.types.is_categorical_dtype(vector):\n",
      "/home/pettepiero/local/envs/atml/lib/python3.11/site-packages/seaborn/_oldcore.py:1498: FutureWarning: is_categorical_dtype is deprecated and will be removed in a future version. Use isinstance(dtype, CategoricalDtype) instead\n",
      "  if pd.api.types.is_categorical_dtype(vector):\n",
      "/home/pettepiero/local/envs/atml/lib/python3.11/site-packages/seaborn/_oldcore.py:1498: FutureWarning: is_categorical_dtype is deprecated and will be removed in a future version. Use isinstance(dtype, CategoricalDtype) instead\n",
      "  if pd.api.types.is_categorical_dtype(vector):\n",
      "/home/pettepiero/local/envs/atml/lib/python3.11/site-packages/seaborn/_oldcore.py:1498: FutureWarning: is_categorical_dtype is deprecated and will be removed in a future version. Use isinstance(dtype, CategoricalDtype) instead\n",
      "  if pd.api.types.is_categorical_dtype(vector):\n",
      "/home/pettepiero/local/envs/atml/lib/python3.11/site-packages/seaborn/_oldcore.py:1498: FutureWarning: is_categorical_dtype is deprecated and will be removed in a future version. Use isinstance(dtype, CategoricalDtype) instead\n",
      "  if pd.api.types.is_categorical_dtype(vector):\n",
      "/home/pettepiero/local/envs/atml/lib/python3.11/site-packages/seaborn/_oldcore.py:1119: FutureWarning: use_inf_as_na option is deprecated and will be removed in a future version. Convert inf values to NaN before operating instead.\n",
      "  with pd.option_context('mode.use_inf_as_na', True):\n",
      "/home/pettepiero/local/envs/atml/lib/python3.11/site-packages/seaborn/_oldcore.py:1119: FutureWarning: use_inf_as_na option is deprecated and will be removed in a future version. Convert inf values to NaN before operating instead.\n",
      "  with pd.option_context('mode.use_inf_as_na', True):\n",
      "/home/pettepiero/local/envs/atml/lib/python3.11/site-packages/seaborn/_oldcore.py:1498: FutureWarning: is_categorical_dtype is deprecated and will be removed in a future version. Use isinstance(dtype, CategoricalDtype) instead\n",
      "  if pd.api.types.is_categorical_dtype(vector):\n",
      "/home/pettepiero/local/envs/atml/lib/python3.11/site-packages/seaborn/_oldcore.py:1498: FutureWarning: is_categorical_dtype is deprecated and will be removed in a future version. Use isinstance(dtype, CategoricalDtype) instead\n",
      "  if pd.api.types.is_categorical_dtype(vector):\n",
      "/home/pettepiero/local/envs/atml/lib/python3.11/site-packages/seaborn/_oldcore.py:1498: FutureWarning: is_categorical_dtype is deprecated and will be removed in a future version. Use isinstance(dtype, CategoricalDtype) instead\n",
      "  if pd.api.types.is_categorical_dtype(vector):\n",
      "/home/pettepiero/local/envs/atml/lib/python3.11/site-packages/seaborn/_oldcore.py:1498: FutureWarning: is_categorical_dtype is deprecated and will be removed in a future version. Use isinstance(dtype, CategoricalDtype) instead\n",
      "  if pd.api.types.is_categorical_dtype(vector):\n",
      "/home/pettepiero/local/envs/atml/lib/python3.11/site-packages/seaborn/_oldcore.py:1498: FutureWarning: is_categorical_dtype is deprecated and will be removed in a future version. Use isinstance(dtype, CategoricalDtype) instead\n",
      "  if pd.api.types.is_categorical_dtype(vector):\n",
      "/home/pettepiero/local/envs/atml/lib/python3.11/site-packages/seaborn/_oldcore.py:1119: FutureWarning: use_inf_as_na option is deprecated and will be removed in a future version. Convert inf values to NaN before operating instead.\n",
      "  with pd.option_context('mode.use_inf_as_na', True):\n",
      "/home/pettepiero/local/envs/atml/lib/python3.11/site-packages/seaborn/_oldcore.py:1119: FutureWarning: use_inf_as_na option is deprecated and will be removed in a future version. Convert inf values to NaN before operating instead.\n",
      "  with pd.option_context('mode.use_inf_as_na', True):\n",
      "/home/pettepiero/local/envs/atml/lib/python3.11/site-packages/seaborn/axisgrid.py:118: UserWarning: The figure layout has changed to tight\n",
      "  self._figure.tight_layout(*args, **kwargs)\n",
      "/tmp/ipykernel_41351/3982423583.py:16: UserWarning: The figure layout has changed to tight\n",
      "  g.fig.tight_layout()\n",
      "/tmp/ipykernel_41351/3982423583.py:17: UserWarning: Matplotlib is currently using agg, which is a non-GUI backend, so cannot show the figure.\n",
      "  plt.show()\n"
     ]
    }
   ],
   "source": [
    "\n",
    "g = sns.FacetGrid(\n",
    "    melted_values,\n",
    "    row=\"variable\",\n",
    "    hue=\"variable\",\n",
    "    palette=custom_colors,\n",
    "    margin_titles=True\n",
    ")\n",
    "g.map(sns.stripplot, \"value\")\n",
    "g.set(xlim=(0, 1))\n",
    "g.set_titles(\"{value}\", fontweight=\"bold\")\n",
    "\n",
    "g.set_ylabels(\"Count\", rotation=0, labelpad=20, fontweight=\"bold\")\n",
    "g.set_xlabels(r\"$\\alpha$\", fontweight=\"bold\", fontsize=14)\n",
    "g.fig.set_size_inches(10, 5.5)\n",
    "g.fig.set_dpi(200)\n",
    "g.fig.tight_layout()\n",
    "plt.show()  \n",
    "\n",
    "\n",
    "# fig, ax = plt.subplots(figsize=(10, 5), dpi=100)\n",
    "# sns.stripplot(data=final_values, x=\"alpha0\", ax=ax, label=\"alpha0\")\n",
    "# sns.stripplot(data=final_values, x=\"alpha1\", ax=ax, label=\"alpha1\")\n",
    "# sns.stripplot(data=final_values, x=\"alpha2\", ax=ax, label=\"alpha2\")\n",
    "# ax.legend()"
   ]
  },
  {
   "cell_type": "code",
   "execution_count": 26,
   "metadata": {
    "ExecuteTime": {
     "end_time": "2023-12-27T18:03:24.387502779Z",
     "start_time": "2023-12-27T18:03:24.386769371Z"
    }
   },
   "outputs": [
    {
     "name": "stderr",
     "output_type": "stream",
     "text": [
      "/home/pettepiero/local/envs/atml/lib/python3.11/site-packages/seaborn/_oldcore.py:1498: FutureWarning: is_categorical_dtype is deprecated and will be removed in a future version. Use isinstance(dtype, CategoricalDtype) instead\n",
      "  if pd.api.types.is_categorical_dtype(vector):\n",
      "/home/pettepiero/local/envs/atml/lib/python3.11/site-packages/seaborn/_oldcore.py:1498: FutureWarning: is_categorical_dtype is deprecated and will be removed in a future version. Use isinstance(dtype, CategoricalDtype) instead\n",
      "  if pd.api.types.is_categorical_dtype(vector):\n",
      "/home/pettepiero/local/envs/atml/lib/python3.11/site-packages/seaborn/_oldcore.py:1498: FutureWarning: is_categorical_dtype is deprecated and will be removed in a future version. Use isinstance(dtype, CategoricalDtype) instead\n",
      "  if pd.api.types.is_categorical_dtype(vector):\n",
      "/home/pettepiero/local/envs/atml/lib/python3.11/site-packages/seaborn/_oldcore.py:1498: FutureWarning: is_categorical_dtype is deprecated and will be removed in a future version. Use isinstance(dtype, CategoricalDtype) instead\n",
      "  if pd.api.types.is_categorical_dtype(vector):\n",
      "/home/pettepiero/local/envs/atml/lib/python3.11/site-packages/seaborn/_oldcore.py:1498: FutureWarning: is_categorical_dtype is deprecated and will be removed in a future version. Use isinstance(dtype, CategoricalDtype) instead\n",
      "  if pd.api.types.is_categorical_dtype(vector):\n",
      "/home/pettepiero/local/envs/atml/lib/python3.11/site-packages/seaborn/_oldcore.py:1119: FutureWarning: use_inf_as_na option is deprecated and will be removed in a future version. Convert inf values to NaN before operating instead.\n",
      "  with pd.option_context('mode.use_inf_as_na', True):\n",
      "/home/pettepiero/local/envs/atml/lib/python3.11/site-packages/seaborn/_oldcore.py:1498: FutureWarning: is_categorical_dtype is deprecated and will be removed in a future version. Use isinstance(dtype, CategoricalDtype) instead\n",
      "  if pd.api.types.is_categorical_dtype(vector):\n",
      "/home/pettepiero/local/envs/atml/lib/python3.11/site-packages/seaborn/_oldcore.py:1119: FutureWarning: use_inf_as_na option is deprecated and will be removed in a future version. Convert inf values to NaN before operating instead.\n",
      "  with pd.option_context('mode.use_inf_as_na', True):\n",
      "/home/pettepiero/local/envs/atml/lib/python3.11/site-packages/seaborn/_oldcore.py:1498: FutureWarning: is_categorical_dtype is deprecated and will be removed in a future version. Use isinstance(dtype, CategoricalDtype) instead\n",
      "  if pd.api.types.is_categorical_dtype(vector):\n",
      "/home/pettepiero/local/envs/atml/lib/python3.11/site-packages/seaborn/_oldcore.py:1119: FutureWarning: use_inf_as_na option is deprecated and will be removed in a future version. Convert inf values to NaN before operating instead.\n",
      "  with pd.option_context('mode.use_inf_as_na', True):\n",
      "/home/pettepiero/local/envs/atml/lib/python3.11/site-packages/seaborn/_oldcore.py:1498: FutureWarning: is_categorical_dtype is deprecated and will be removed in a future version. Use isinstance(dtype, CategoricalDtype) instead\n",
      "  if pd.api.types.is_categorical_dtype(vector):\n",
      "/home/pettepiero/local/envs/atml/lib/python3.11/site-packages/seaborn/_oldcore.py:1119: FutureWarning: use_inf_as_na option is deprecated and will be removed in a future version. Convert inf values to NaN before operating instead.\n",
      "  with pd.option_context('mode.use_inf_as_na', True):\n",
      "/home/pettepiero/local/envs/atml/lib/python3.11/site-packages/seaborn/_oldcore.py:1498: FutureWarning: is_categorical_dtype is deprecated and will be removed in a future version. Use isinstance(dtype, CategoricalDtype) instead\n",
      "  if pd.api.types.is_categorical_dtype(vector):\n",
      "/home/pettepiero/local/envs/atml/lib/python3.11/site-packages/seaborn/_oldcore.py:1119: FutureWarning: use_inf_as_na option is deprecated and will be removed in a future version. Convert inf values to NaN before operating instead.\n",
      "  with pd.option_context('mode.use_inf_as_na', True):\n",
      "/home/pettepiero/local/envs/atml/lib/python3.11/site-packages/seaborn/_oldcore.py:1498: FutureWarning: is_categorical_dtype is deprecated and will be removed in a future version. Use isinstance(dtype, CategoricalDtype) instead\n",
      "  if pd.api.types.is_categorical_dtype(vector):\n",
      "/home/pettepiero/local/envs/atml/lib/python3.11/site-packages/seaborn/_oldcore.py:1119: FutureWarning: use_inf_as_na option is deprecated and will be removed in a future version. Convert inf values to NaN before operating instead.\n",
      "  with pd.option_context('mode.use_inf_as_na', True):\n",
      "/home/pettepiero/local/envs/atml/lib/python3.11/site-packages/seaborn/_oldcore.py:1498: FutureWarning: is_categorical_dtype is deprecated and will be removed in a future version. Use isinstance(dtype, CategoricalDtype) instead\n",
      "  if pd.api.types.is_categorical_dtype(vector):\n",
      "/home/pettepiero/local/envs/atml/lib/python3.11/site-packages/seaborn/_oldcore.py:1119: FutureWarning: use_inf_as_na option is deprecated and will be removed in a future version. Convert inf values to NaN before operating instead.\n",
      "  with pd.option_context('mode.use_inf_as_na', True):\n",
      "/home/pettepiero/local/envs/atml/lib/python3.11/site-packages/seaborn/_oldcore.py:1498: FutureWarning: is_categorical_dtype is deprecated and will be removed in a future version. Use isinstance(dtype, CategoricalDtype) instead\n",
      "  if pd.api.types.is_categorical_dtype(vector):\n",
      "/home/pettepiero/local/envs/atml/lib/python3.11/site-packages/seaborn/_oldcore.py:1119: FutureWarning: use_inf_as_na option is deprecated and will be removed in a future version. Convert inf values to NaN before operating instead.\n",
      "  with pd.option_context('mode.use_inf_as_na', True):\n",
      "/home/pettepiero/local/envs/atml/lib/python3.11/site-packages/seaborn/_oldcore.py:1498: FutureWarning: is_categorical_dtype is deprecated and will be removed in a future version. Use isinstance(dtype, CategoricalDtype) instead\n",
      "  if pd.api.types.is_categorical_dtype(vector):\n",
      "/home/pettepiero/local/envs/atml/lib/python3.11/site-packages/seaborn/_oldcore.py:1119: FutureWarning: use_inf_as_na option is deprecated and will be removed in a future version. Convert inf values to NaN before operating instead.\n",
      "  with pd.option_context('mode.use_inf_as_na', True):\n",
      "/home/pettepiero/local/envs/atml/lib/python3.11/site-packages/seaborn/_oldcore.py:1498: FutureWarning: is_categorical_dtype is deprecated and will be removed in a future version. Use isinstance(dtype, CategoricalDtype) instead\n",
      "  if pd.api.types.is_categorical_dtype(vector):\n",
      "/home/pettepiero/local/envs/atml/lib/python3.11/site-packages/seaborn/_oldcore.py:1119: FutureWarning: use_inf_as_na option is deprecated and will be removed in a future version. Convert inf values to NaN before operating instead.\n",
      "  with pd.option_context('mode.use_inf_as_na', True):\n",
      "/home/pettepiero/local/envs/atml/lib/python3.11/site-packages/seaborn/_oldcore.py:1498: FutureWarning: is_categorical_dtype is deprecated and will be removed in a future version. Use isinstance(dtype, CategoricalDtype) instead\n",
      "  if pd.api.types.is_categorical_dtype(vector):\n",
      "/home/pettepiero/local/envs/atml/lib/python3.11/site-packages/seaborn/_oldcore.py:1119: FutureWarning: use_inf_as_na option is deprecated and will be removed in a future version. Convert inf values to NaN before operating instead.\n",
      "  with pd.option_context('mode.use_inf_as_na', True):\n",
      "/home/pettepiero/local/envs/atml/lib/python3.11/site-packages/seaborn/_oldcore.py:1498: FutureWarning: is_categorical_dtype is deprecated and will be removed in a future version. Use isinstance(dtype, CategoricalDtype) instead\n",
      "  if pd.api.types.is_categorical_dtype(vector):\n",
      "/home/pettepiero/local/envs/atml/lib/python3.11/site-packages/seaborn/_oldcore.py:1119: FutureWarning: use_inf_as_na option is deprecated and will be removed in a future version. Convert inf values to NaN before operating instead.\n",
      "  with pd.option_context('mode.use_inf_as_na', True):\n",
      "/home/pettepiero/local/envs/atml/lib/python3.11/site-packages/seaborn/_oldcore.py:1498: FutureWarning: is_categorical_dtype is deprecated and will be removed in a future version. Use isinstance(dtype, CategoricalDtype) instead\n",
      "  if pd.api.types.is_categorical_dtype(vector):\n",
      "/home/pettepiero/local/envs/atml/lib/python3.11/site-packages/seaborn/_oldcore.py:1119: FutureWarning: use_inf_as_na option is deprecated and will be removed in a future version. Convert inf values to NaN before operating instead.\n",
      "  with pd.option_context('mode.use_inf_as_na', True):\n",
      "/home/pettepiero/local/envs/atml/lib/python3.11/site-packages/seaborn/_oldcore.py:1498: FutureWarning: is_categorical_dtype is deprecated and will be removed in a future version. Use isinstance(dtype, CategoricalDtype) instead\n",
      "  if pd.api.types.is_categorical_dtype(vector):\n",
      "/home/pettepiero/local/envs/atml/lib/python3.11/site-packages/seaborn/_oldcore.py:1119: FutureWarning: use_inf_as_na option is deprecated and will be removed in a future version. Convert inf values to NaN before operating instead.\n",
      "  with pd.option_context('mode.use_inf_as_na', True):\n",
      "/home/pettepiero/local/envs/atml/lib/python3.11/site-packages/seaborn/_oldcore.py:1498: FutureWarning: is_categorical_dtype is deprecated and will be removed in a future version. Use isinstance(dtype, CategoricalDtype) instead\n",
      "  if pd.api.types.is_categorical_dtype(vector):\n",
      "/home/pettepiero/local/envs/atml/lib/python3.11/site-packages/seaborn/_oldcore.py:1119: FutureWarning: use_inf_as_na option is deprecated and will be removed in a future version. Convert inf values to NaN before operating instead.\n",
      "  with pd.option_context('mode.use_inf_as_na', True):\n",
      "/home/pettepiero/local/envs/atml/lib/python3.11/site-packages/seaborn/_oldcore.py:1498: FutureWarning: is_categorical_dtype is deprecated and will be removed in a future version. Use isinstance(dtype, CategoricalDtype) instead\n",
      "  if pd.api.types.is_categorical_dtype(vector):\n",
      "/home/pettepiero/local/envs/atml/lib/python3.11/site-packages/seaborn/_oldcore.py:1119: FutureWarning: use_inf_as_na option is deprecated and will be removed in a future version. Convert inf values to NaN before operating instead.\n",
      "  with pd.option_context('mode.use_inf_as_na', True):\n",
      "/home/pettepiero/local/envs/atml/lib/python3.11/site-packages/seaborn/_oldcore.py:1498: FutureWarning: is_categorical_dtype is deprecated and will be removed in a future version. Use isinstance(dtype, CategoricalDtype) instead\n",
      "  if pd.api.types.is_categorical_dtype(vector):\n",
      "/home/pettepiero/local/envs/atml/lib/python3.11/site-packages/seaborn/_oldcore.py:1119: FutureWarning: use_inf_as_na option is deprecated and will be removed in a future version. Convert inf values to NaN before operating instead.\n",
      "  with pd.option_context('mode.use_inf_as_na', True):\n",
      "/home/pettepiero/local/envs/atml/lib/python3.11/site-packages/seaborn/_oldcore.py:1498: FutureWarning: is_categorical_dtype is deprecated and will be removed in a future version. Use isinstance(dtype, CategoricalDtype) instead\n",
      "  if pd.api.types.is_categorical_dtype(vector):\n",
      "/home/pettepiero/local/envs/atml/lib/python3.11/site-packages/seaborn/_oldcore.py:1119: FutureWarning: use_inf_as_na option is deprecated and will be removed in a future version. Convert inf values to NaN before operating instead.\n",
      "  with pd.option_context('mode.use_inf_as_na', True):\n",
      "/home/pettepiero/local/envs/atml/lib/python3.11/site-packages/seaborn/_oldcore.py:1498: FutureWarning: is_categorical_dtype is deprecated and will be removed in a future version. Use isinstance(dtype, CategoricalDtype) instead\n",
      "  if pd.api.types.is_categorical_dtype(vector):\n",
      "/home/pettepiero/local/envs/atml/lib/python3.11/site-packages/seaborn/_oldcore.py:1119: FutureWarning: use_inf_as_na option is deprecated and will be removed in a future version. Convert inf values to NaN before operating instead.\n",
      "  with pd.option_context('mode.use_inf_as_na', True):\n",
      "/home/pettepiero/local/envs/atml/lib/python3.11/site-packages/seaborn/_oldcore.py:1498: FutureWarning: is_categorical_dtype is deprecated and will be removed in a future version. Use isinstance(dtype, CategoricalDtype) instead\n",
      "  if pd.api.types.is_categorical_dtype(vector):\n",
      "/home/pettepiero/local/envs/atml/lib/python3.11/site-packages/seaborn/_oldcore.py:1119: FutureWarning: use_inf_as_na option is deprecated and will be removed in a future version. Convert inf values to NaN before operating instead.\n",
      "  with pd.option_context('mode.use_inf_as_na', True):\n",
      "/home/pettepiero/local/envs/atml/lib/python3.11/site-packages/seaborn/_oldcore.py:1498: FutureWarning: is_categorical_dtype is deprecated and will be removed in a future version. Use isinstance(dtype, CategoricalDtype) instead\n",
      "  if pd.api.types.is_categorical_dtype(vector):\n",
      "/home/pettepiero/local/envs/atml/lib/python3.11/site-packages/seaborn/_oldcore.py:1119: FutureWarning: use_inf_as_na option is deprecated and will be removed in a future version. Convert inf values to NaN before operating instead.\n",
      "  with pd.option_context('mode.use_inf_as_na', True):\n",
      "/home/pettepiero/local/envs/atml/lib/python3.11/site-packages/seaborn/_oldcore.py:1498: FutureWarning: is_categorical_dtype is deprecated and will be removed in a future version. Use isinstance(dtype, CategoricalDtype) instead\n",
      "  if pd.api.types.is_categorical_dtype(vector):\n",
      "/home/pettepiero/local/envs/atml/lib/python3.11/site-packages/seaborn/_oldcore.py:1119: FutureWarning: use_inf_as_na option is deprecated and will be removed in a future version. Convert inf values to NaN before operating instead.\n",
      "  with pd.option_context('mode.use_inf_as_na', True):\n",
      "/home/pettepiero/local/envs/atml/lib/python3.11/site-packages/seaborn/_oldcore.py:1498: FutureWarning: is_categorical_dtype is deprecated and will be removed in a future version. Use isinstance(dtype, CategoricalDtype) instead\n",
      "  if pd.api.types.is_categorical_dtype(vector):\n",
      "/home/pettepiero/local/envs/atml/lib/python3.11/site-packages/seaborn/_oldcore.py:1119: FutureWarning: use_inf_as_na option is deprecated and will be removed in a future version. Convert inf values to NaN before operating instead.\n",
      "  with pd.option_context('mode.use_inf_as_na', True):\n",
      "/home/pettepiero/local/envs/atml/lib/python3.11/site-packages/seaborn/_oldcore.py:1498: FutureWarning: is_categorical_dtype is deprecated and will be removed in a future version. Use isinstance(dtype, CategoricalDtype) instead\n",
      "  if pd.api.types.is_categorical_dtype(vector):\n",
      "/home/pettepiero/local/envs/atml/lib/python3.11/site-packages/seaborn/_oldcore.py:1119: FutureWarning: use_inf_as_na option is deprecated and will be removed in a future version. Convert inf values to NaN before operating instead.\n",
      "  with pd.option_context('mode.use_inf_as_na', True):\n",
      "/home/pettepiero/local/envs/atml/lib/python3.11/site-packages/seaborn/_oldcore.py:1498: FutureWarning: is_categorical_dtype is deprecated and will be removed in a future version. Use isinstance(dtype, CategoricalDtype) instead\n",
      "  if pd.api.types.is_categorical_dtype(vector):\n",
      "/home/pettepiero/local/envs/atml/lib/python3.11/site-packages/seaborn/_oldcore.py:1119: FutureWarning: use_inf_as_na option is deprecated and will be removed in a future version. Convert inf values to NaN before operating instead.\n",
      "  with pd.option_context('mode.use_inf_as_na', True):\n",
      "/home/pettepiero/local/envs/atml/lib/python3.11/site-packages/seaborn/_oldcore.py:1498: FutureWarning: is_categorical_dtype is deprecated and will be removed in a future version. Use isinstance(dtype, CategoricalDtype) instead\n",
      "  if pd.api.types.is_categorical_dtype(vector):\n",
      "/home/pettepiero/local/envs/atml/lib/python3.11/site-packages/seaborn/_oldcore.py:1119: FutureWarning: use_inf_as_na option is deprecated and will be removed in a future version. Convert inf values to NaN before operating instead.\n",
      "  with pd.option_context('mode.use_inf_as_na', True):\n",
      "/home/pettepiero/local/envs/atml/lib/python3.11/site-packages/seaborn/_oldcore.py:1498: FutureWarning: is_categorical_dtype is deprecated and will be removed in a future version. Use isinstance(dtype, CategoricalDtype) instead\n",
      "  if pd.api.types.is_categorical_dtype(vector):\n",
      "/home/pettepiero/local/envs/atml/lib/python3.11/site-packages/seaborn/_oldcore.py:1119: FutureWarning: use_inf_as_na option is deprecated and will be removed in a future version. Convert inf values to NaN before operating instead.\n",
      "  with pd.option_context('mode.use_inf_as_na', True):\n",
      "/home/pettepiero/local/envs/atml/lib/python3.11/site-packages/seaborn/_oldcore.py:1498: FutureWarning: is_categorical_dtype is deprecated and will be removed in a future version. Use isinstance(dtype, CategoricalDtype) instead\n",
      "  if pd.api.types.is_categorical_dtype(vector):\n",
      "/home/pettepiero/local/envs/atml/lib/python3.11/site-packages/seaborn/_oldcore.py:1119: FutureWarning: use_inf_as_na option is deprecated and will be removed in a future version. Convert inf values to NaN before operating instead.\n",
      "  with pd.option_context('mode.use_inf_as_na', True):\n",
      "/home/pettepiero/local/envs/atml/lib/python3.11/site-packages/seaborn/_oldcore.py:1498: FutureWarning: is_categorical_dtype is deprecated and will be removed in a future version. Use isinstance(dtype, CategoricalDtype) instead\n",
      "  if pd.api.types.is_categorical_dtype(vector):\n",
      "/home/pettepiero/local/envs/atml/lib/python3.11/site-packages/seaborn/_oldcore.py:1119: FutureWarning: use_inf_as_na option is deprecated and will be removed in a future version. Convert inf values to NaN before operating instead.\n",
      "  with pd.option_context('mode.use_inf_as_na', True):\n",
      "/home/pettepiero/local/envs/atml/lib/python3.11/site-packages/seaborn/_oldcore.py:1498: FutureWarning: is_categorical_dtype is deprecated and will be removed in a future version. Use isinstance(dtype, CategoricalDtype) instead\n",
      "  if pd.api.types.is_categorical_dtype(vector):\n",
      "/home/pettepiero/local/envs/atml/lib/python3.11/site-packages/seaborn/_oldcore.py:1119: FutureWarning: use_inf_as_na option is deprecated and will be removed in a future version. Convert inf values to NaN before operating instead.\n",
      "  with pd.option_context('mode.use_inf_as_na', True):\n",
      "/home/pettepiero/local/envs/atml/lib/python3.11/site-packages/seaborn/_oldcore.py:1498: FutureWarning: is_categorical_dtype is deprecated and will be removed in a future version. Use isinstance(dtype, CategoricalDtype) instead\n",
      "  if pd.api.types.is_categorical_dtype(vector):\n",
      "/home/pettepiero/local/envs/atml/lib/python3.11/site-packages/seaborn/_oldcore.py:1119: FutureWarning: use_inf_as_na option is deprecated and will be removed in a future version. Convert inf values to NaN before operating instead.\n",
      "  with pd.option_context('mode.use_inf_as_na', True):\n",
      "/home/pettepiero/local/envs/atml/lib/python3.11/site-packages/seaborn/_oldcore.py:1498: FutureWarning: is_categorical_dtype is deprecated and will be removed in a future version. Use isinstance(dtype, CategoricalDtype) instead\n",
      "  if pd.api.types.is_categorical_dtype(vector):\n",
      "/home/pettepiero/local/envs/atml/lib/python3.11/site-packages/seaborn/_oldcore.py:1119: FutureWarning: use_inf_as_na option is deprecated and will be removed in a future version. Convert inf values to NaN before operating instead.\n",
      "  with pd.option_context('mode.use_inf_as_na', True):\n",
      "/home/pettepiero/local/envs/atml/lib/python3.11/site-packages/seaborn/_oldcore.py:1498: FutureWarning: is_categorical_dtype is deprecated and will be removed in a future version. Use isinstance(dtype, CategoricalDtype) instead\n",
      "  if pd.api.types.is_categorical_dtype(vector):\n",
      "/home/pettepiero/local/envs/atml/lib/python3.11/site-packages/seaborn/_oldcore.py:1119: FutureWarning: use_inf_as_na option is deprecated and will be removed in a future version. Convert inf values to NaN before operating instead.\n",
      "  with pd.option_context('mode.use_inf_as_na', True):\n",
      "/home/pettepiero/local/envs/atml/lib/python3.11/site-packages/seaborn/axisgrid.py:118: UserWarning: The figure layout has changed to tight\n",
      "  self._figure.tight_layout(*args, **kwargs)\n",
      "/tmp/ipykernel_41351/1039322292.py:19: UserWarning: The figure layout has changed to tight\n",
      "  g.fig.tight_layout()\n",
      "/tmp/ipykernel_41351/1039322292.py:20: UserWarning: Matplotlib is currently using agg, which is a non-GUI backend, so cannot show the figure.\n",
      "  plt.show()\n"
     ]
    },
    {
     "ename": "",
     "evalue": "",
     "output_type": "error",
     "traceback": [
      "\u001b[1;31mThe Kernel crashed while executing code in the the current cell or a previous cell. Please review the code in the cell(s) to identify a possible cause of the failure. Click <a href='https://aka.ms/vscodeJupyterKernelCrash'>here</a> for more info. View Jupyter <a href='command:jupyter.viewOutput'>log</a> for further details."
     ]
    }
   ],
   "source": [
    "bin_edges = [i / 10 for i in range(11)]\n",
    "\n",
    "g = sns.FacetGrid(\n",
    "    melted_values,\n",
    "    row=\"variable\",\n",
    "    col=\"lambda\",\n",
    "    hue=\"variable\",\n",
    "    palette=custom_colors,\n",
    "    margin_titles=True\n",
    ")\n",
    "g.map(sns.histplot, \"value\", bins=bin_edges)\n",
    "g.set(xlim=(0, 1))\n",
    "g.set_titles(\"{lambda}\", fontweight=\"bold\")\n",
    "\n",
    "g.set_ylabels(\"Count\", rotation=0, labelpad=20, fontweight=\"bold\")\n",
    "g.set_xlabels(\"Alpha\", fontweight=\"bold\")\n",
    "g.fig.set_size_inches(15, 5.5)\n",
    "g.fig.set_dpi(200)\n",
    "g.fig.tight_layout()\n",
    "plt.show()"
   ]
  },
  {
   "cell_type": "code",
   "execution_count": null,
   "metadata": {
    "ExecuteTime": {
     "end_time": "2023-12-27T18:03:24.388860310Z",
     "start_time": "2023-12-27T18:03:24.386846763Z"
    }
   },
   "outputs": [],
   "source": []
  }
 ],
 "metadata": {
  "kernelspec": {
   "display_name": "atml",
   "language": "python",
   "name": "python3"
  },
  "language_info": {
   "codemirror_mode": {
    "name": "ipython",
    "version": 3
   },
   "file_extension": ".py",
   "mimetype": "text/x-python",
   "name": "python",
   "nbconvert_exporter": "python",
   "pygments_lexer": "ipython3",
   "version": "3.11.5"
  }
 },
 "nbformat": 4,
 "nbformat_minor": 2
}
